{
  "nbformat": 4,
  "nbformat_minor": 0,
  "metadata": {
    "colab": {
      "provenance": [],
      "gpuType": "T4"
    },
    "kernelspec": {
      "name": "python3",
      "display_name": "Python 3"
    },
    "language_info": {
      "name": "python"
    },
    "accelerator": "GPU"
  },
  "cells": [
    {
      "cell_type": "code",
      "execution_count": 2,
      "metadata": {
        "id": "e6Q1sJRCda0i"
      },
      "outputs": [],
      "source": [
        "!pip install newsapi-python lxml_html_clean newspaper3k sacremoses nltk --quiet"
      ]
    },
    {
      "cell_type": "code",
      "source": [
        "from newsapi import NewsApiClient\n",
        "import pandas as pd\n",
        "from datetime import datetime, timedelta\n",
        "from newspaper import Article\n",
        "from transformers import BartTokenizer, AutoTokenizer, AutoModelForSeq2SeqLM\n",
        "import json\n",
        "from google.colab import drive\n",
        "import nltk\n",
        "nltk.download('punkt')\n",
        "nltk.download('punkt_tab')\n",
        "nltk.download('wordnet')\n",
        "nltk.download('omw-1.4')\n",
        "from nltk.tokenize import sent_tokenize\n",
        "\n",
        "drive.mount('/content/drive/')"
      ],
      "metadata": {
        "colab": {
          "base_uri": "https://localhost:8080/"
        },
        "id": "Pke_ilOTdfzU",
        "outputId": "e0f56d55-cdb3-40be-e8be-b49a648f8982"
      },
      "execution_count": 3,
      "outputs": [
        {
          "output_type": "stream",
          "name": "stderr",
          "text": [
            "[nltk_data] Downloading package punkt to /root/nltk_data...\n",
            "[nltk_data]   Package punkt is already up-to-date!\n",
            "[nltk_data] Downloading package punkt_tab to /root/nltk_data...\n",
            "[nltk_data]   Package punkt_tab is already up-to-date!\n",
            "[nltk_data] Downloading package wordnet to /root/nltk_data...\n",
            "[nltk_data]   Package wordnet is already up-to-date!\n",
            "[nltk_data] Downloading package omw-1.4 to /root/nltk_data...\n",
            "[nltk_data]   Package omw-1.4 is already up-to-date!\n"
          ]
        },
        {
          "output_type": "stream",
          "name": "stdout",
          "text": [
            "Drive already mounted at /content/drive/; to attempt to forcibly remount, call drive.mount(\"/content/drive/\", force_remount=True).\n"
          ]
        }
      ]
    },
    {
      "cell_type": "code",
      "source": [
        "# API\n",
        "api_key = \"\"\n",
        "newsapi = NewsApiClient(api_key=api_key)\n",
        "\n",
        "# Only tomorrow's articles will be loaded\n",
        "yesterday = datetime.utcnow().date() - timedelta(days=1)\n",
        "from_date = to_date = yesterday.isoformat()  # 'YYYY-MM-DD'\n",
        "\n",
        "# The articles will be filtered by the next keywords\n",
        "query = \"(artificial intelligence OR machine learning OR data science) AND (business OR marketing OR logistics OR finance OR operations)\"\n",
        "\n",
        "response = newsapi.get_everything(\n",
        "  q=query,\n",
        "  from_param=from_date,\n",
        "  to=to_date,\n",
        "  language='en',\n",
        "  sort_by='publishedAt',\n",
        "  page_size=100\n",
        ")\n",
        "\n",
        "# Parse results:\n",
        "articles = response['articles']\n",
        "df = pd.DataFrame(articles)[['title', 'description', 'content', 'url', 'publishedAt', 'source']]\n",
        "df['source'] = df['source'].apply(lambda s: s['name'] if isinstance(s, dict) else s)\n",
        "\n",
        "print(f\"{len(df)} articles published on {from_date}:\")\n",
        "df.head()"
      ],
      "metadata": {
        "colab": {
          "base_uri": "https://localhost:8080/",
          "height": 362
        },
        "id": "jq-ISeAudfqB",
        "outputId": "aa7d579a-39d0-4d07-9297-12841893bf22"
      },
      "execution_count": 4,
      "outputs": [
        {
          "output_type": "stream",
          "name": "stdout",
          "text": [
            "30 articles published on 2025-06-04:\n"
          ]
        },
        {
          "output_type": "execute_result",
          "data": {
            "text/plain": [
              "                                               title  \\\n",
              "0                                  Fooling ourselves   \n",
              "1  Ocean Power Technologies Announces Hiring of J...   \n",
              "2  Snowflake orchestrates its AI strategy through...   \n",
              "3                    The Seabed Is Now a Battlefield   \n",
              "4  Dream job no more? AI is coming for Wall Stree...   \n",
              "\n",
              "                                         description  \\\n",
              "0  Truth and Love will survive AI, despite humani...   \n",
              "1  MONROE TOWNSHIP, N.J., June 04, 2025 (GLOBE NE...   \n",
              "2  A small orchestra provided the opening prelude...   \n",
              "3  Great power competition is taking new forms un...   \n",
              "4  AI is starting to take over entry-level jobs o...   \n",
              "\n",
              "                                             content  \\\n",
              "0  Steven Spielbergs 2001 film A.I.: Artificial I...   \n",
              "1  MONROE TOWNSHIP, N.J., June 04, 2025 (GLOBE NE...   \n",
              "2  A small orchestra provided the opening prelude...   \n",
              "3  The rules-based global order is under siege at...   \n",
              "4  Wall Streets entry-level junior analyst jobs a...   \n",
              "\n",
              "                                                 url           publishedAt  \\\n",
              "0  https://wng.org/articles/fooling-ourselves-174...  2025-06-04T22:05:00Z   \n",
              "1  https://www.globenewswire.com/news-release/202...  2025-06-04T20:15:00Z   \n",
              "2  https://siliconangle.com/2025/06/04/snowflake-...  2025-06-04T20:05:35Z   \n",
              "3  http://foreignpolicy.com/2025/06/04/seabed-chi...  2025-06-04T19:11:04Z   \n",
              "4  https://economictimes.indiatimes.com/news/inte...  2025-06-04T16:29:18Z   \n",
              "\n",
              "               source  \n",
              "0             Wng.org  \n",
              "1       GlobeNewswire  \n",
              "2   SiliconANGLE News  \n",
              "3      Foreign Policy  \n",
              "4  The Times of India  "
            ],
            "text/html": [
              "\n",
              "  <div id=\"df-81e1e3a2-31d9-4a94-bf7e-6d62fad07858\" class=\"colab-df-container\">\n",
              "    <div>\n",
              "<style scoped>\n",
              "    .dataframe tbody tr th:only-of-type {\n",
              "        vertical-align: middle;\n",
              "    }\n",
              "\n",
              "    .dataframe tbody tr th {\n",
              "        vertical-align: top;\n",
              "    }\n",
              "\n",
              "    .dataframe thead th {\n",
              "        text-align: right;\n",
              "    }\n",
              "</style>\n",
              "<table border=\"1\" class=\"dataframe\">\n",
              "  <thead>\n",
              "    <tr style=\"text-align: right;\">\n",
              "      <th></th>\n",
              "      <th>title</th>\n",
              "      <th>description</th>\n",
              "      <th>content</th>\n",
              "      <th>url</th>\n",
              "      <th>publishedAt</th>\n",
              "      <th>source</th>\n",
              "    </tr>\n",
              "  </thead>\n",
              "  <tbody>\n",
              "    <tr>\n",
              "      <th>0</th>\n",
              "      <td>Fooling ourselves</td>\n",
              "      <td>Truth and Love will survive AI, despite humani...</td>\n",
              "      <td>Steven Spielbergs 2001 film A.I.: Artificial I...</td>\n",
              "      <td>https://wng.org/articles/fooling-ourselves-174...</td>\n",
              "      <td>2025-06-04T22:05:00Z</td>\n",
              "      <td>Wng.org</td>\n",
              "    </tr>\n",
              "    <tr>\n",
              "      <th>1</th>\n",
              "      <td>Ocean Power Technologies Announces Hiring of J...</td>\n",
              "      <td>MONROE TOWNSHIP, N.J., June 04, 2025 (GLOBE NE...</td>\n",
              "      <td>MONROE TOWNSHIP, N.J., June 04, 2025 (GLOBE NE...</td>\n",
              "      <td>https://www.globenewswire.com/news-release/202...</td>\n",
              "      <td>2025-06-04T20:15:00Z</td>\n",
              "      <td>GlobeNewswire</td>\n",
              "    </tr>\n",
              "    <tr>\n",
              "      <th>2</th>\n",
              "      <td>Snowflake orchestrates its AI strategy through...</td>\n",
              "      <td>A small orchestra provided the opening prelude...</td>\n",
              "      <td>A small orchestra provided the opening prelude...</td>\n",
              "      <td>https://siliconangle.com/2025/06/04/snowflake-...</td>\n",
              "      <td>2025-06-04T20:05:35Z</td>\n",
              "      <td>SiliconANGLE News</td>\n",
              "    </tr>\n",
              "    <tr>\n",
              "      <th>3</th>\n",
              "      <td>The Seabed Is Now a Battlefield</td>\n",
              "      <td>Great power competition is taking new forms un...</td>\n",
              "      <td>The rules-based global order is under siege at...</td>\n",
              "      <td>http://foreignpolicy.com/2025/06/04/seabed-chi...</td>\n",
              "      <td>2025-06-04T19:11:04Z</td>\n",
              "      <td>Foreign Policy</td>\n",
              "    </tr>\n",
              "    <tr>\n",
              "      <th>4</th>\n",
              "      <td>Dream job no more? AI is coming for Wall Stree...</td>\n",
              "      <td>AI is starting to take over entry-level jobs o...</td>\n",
              "      <td>Wall Streets entry-level junior analyst jobs a...</td>\n",
              "      <td>https://economictimes.indiatimes.com/news/inte...</td>\n",
              "      <td>2025-06-04T16:29:18Z</td>\n",
              "      <td>The Times of India</td>\n",
              "    </tr>\n",
              "  </tbody>\n",
              "</table>\n",
              "</div>\n",
              "    <div class=\"colab-df-buttons\">\n",
              "\n",
              "  <div class=\"colab-df-container\">\n",
              "    <button class=\"colab-df-convert\" onclick=\"convertToInteractive('df-81e1e3a2-31d9-4a94-bf7e-6d62fad07858')\"\n",
              "            title=\"Convert this dataframe to an interactive table.\"\n",
              "            style=\"display:none;\">\n",
              "\n",
              "  <svg xmlns=\"http://www.w3.org/2000/svg\" height=\"24px\" viewBox=\"0 -960 960 960\">\n",
              "    <path d=\"M120-120v-720h720v720H120Zm60-500h600v-160H180v160Zm220 220h160v-160H400v160Zm0 220h160v-160H400v160ZM180-400h160v-160H180v160Zm440 0h160v-160H620v160ZM180-180h160v-160H180v160Zm440 0h160v-160H620v160Z\"/>\n",
              "  </svg>\n",
              "    </button>\n",
              "\n",
              "  <style>\n",
              "    .colab-df-container {\n",
              "      display:flex;\n",
              "      gap: 12px;\n",
              "    }\n",
              "\n",
              "    .colab-df-convert {\n",
              "      background-color: #E8F0FE;\n",
              "      border: none;\n",
              "      border-radius: 50%;\n",
              "      cursor: pointer;\n",
              "      display: none;\n",
              "      fill: #1967D2;\n",
              "      height: 32px;\n",
              "      padding: 0 0 0 0;\n",
              "      width: 32px;\n",
              "    }\n",
              "\n",
              "    .colab-df-convert:hover {\n",
              "      background-color: #E2EBFA;\n",
              "      box-shadow: 0px 1px 2px rgba(60, 64, 67, 0.3), 0px 1px 3px 1px rgba(60, 64, 67, 0.15);\n",
              "      fill: #174EA6;\n",
              "    }\n",
              "\n",
              "    .colab-df-buttons div {\n",
              "      margin-bottom: 4px;\n",
              "    }\n",
              "\n",
              "    [theme=dark] .colab-df-convert {\n",
              "      background-color: #3B4455;\n",
              "      fill: #D2E3FC;\n",
              "    }\n",
              "\n",
              "    [theme=dark] .colab-df-convert:hover {\n",
              "      background-color: #434B5C;\n",
              "      box-shadow: 0px 1px 3px 1px rgba(0, 0, 0, 0.15);\n",
              "      filter: drop-shadow(0px 1px 2px rgba(0, 0, 0, 0.3));\n",
              "      fill: #FFFFFF;\n",
              "    }\n",
              "  </style>\n",
              "\n",
              "    <script>\n",
              "      const buttonEl =\n",
              "        document.querySelector('#df-81e1e3a2-31d9-4a94-bf7e-6d62fad07858 button.colab-df-convert');\n",
              "      buttonEl.style.display =\n",
              "        google.colab.kernel.accessAllowed ? 'block' : 'none';\n",
              "\n",
              "      async function convertToInteractive(key) {\n",
              "        const element = document.querySelector('#df-81e1e3a2-31d9-4a94-bf7e-6d62fad07858');\n",
              "        const dataTable =\n",
              "          await google.colab.kernel.invokeFunction('convertToInteractive',\n",
              "                                                    [key], {});\n",
              "        if (!dataTable) return;\n",
              "\n",
              "        const docLinkHtml = 'Like what you see? Visit the ' +\n",
              "          '<a target=\"_blank\" href=https://colab.research.google.com/notebooks/data_table.ipynb>data table notebook</a>'\n",
              "          + ' to learn more about interactive tables.';\n",
              "        element.innerHTML = '';\n",
              "        dataTable['output_type'] = 'display_data';\n",
              "        await google.colab.output.renderOutput(dataTable, element);\n",
              "        const docLink = document.createElement('div');\n",
              "        docLink.innerHTML = docLinkHtml;\n",
              "        element.appendChild(docLink);\n",
              "      }\n",
              "    </script>\n",
              "  </div>\n",
              "\n",
              "\n",
              "    <div id=\"df-67f037fa-2e54-42ff-8417-d6adb4f4d251\">\n",
              "      <button class=\"colab-df-quickchart\" onclick=\"quickchart('df-67f037fa-2e54-42ff-8417-d6adb4f4d251')\"\n",
              "                title=\"Suggest charts\"\n",
              "                style=\"display:none;\">\n",
              "\n",
              "<svg xmlns=\"http://www.w3.org/2000/svg\" height=\"24px\"viewBox=\"0 0 24 24\"\n",
              "     width=\"24px\">\n",
              "    <g>\n",
              "        <path d=\"M19 3H5c-1.1 0-2 .9-2 2v14c0 1.1.9 2 2 2h14c1.1 0 2-.9 2-2V5c0-1.1-.9-2-2-2zM9 17H7v-7h2v7zm4 0h-2V7h2v10zm4 0h-2v-4h2v4z\"/>\n",
              "    </g>\n",
              "</svg>\n",
              "      </button>\n",
              "\n",
              "<style>\n",
              "  .colab-df-quickchart {\n",
              "      --bg-color: #E8F0FE;\n",
              "      --fill-color: #1967D2;\n",
              "      --hover-bg-color: #E2EBFA;\n",
              "      --hover-fill-color: #174EA6;\n",
              "      --disabled-fill-color: #AAA;\n",
              "      --disabled-bg-color: #DDD;\n",
              "  }\n",
              "\n",
              "  [theme=dark] .colab-df-quickchart {\n",
              "      --bg-color: #3B4455;\n",
              "      --fill-color: #D2E3FC;\n",
              "      --hover-bg-color: #434B5C;\n",
              "      --hover-fill-color: #FFFFFF;\n",
              "      --disabled-bg-color: #3B4455;\n",
              "      --disabled-fill-color: #666;\n",
              "  }\n",
              "\n",
              "  .colab-df-quickchart {\n",
              "    background-color: var(--bg-color);\n",
              "    border: none;\n",
              "    border-radius: 50%;\n",
              "    cursor: pointer;\n",
              "    display: none;\n",
              "    fill: var(--fill-color);\n",
              "    height: 32px;\n",
              "    padding: 0;\n",
              "    width: 32px;\n",
              "  }\n",
              "\n",
              "  .colab-df-quickchart:hover {\n",
              "    background-color: var(--hover-bg-color);\n",
              "    box-shadow: 0 1px 2px rgba(60, 64, 67, 0.3), 0 1px 3px 1px rgba(60, 64, 67, 0.15);\n",
              "    fill: var(--button-hover-fill-color);\n",
              "  }\n",
              "\n",
              "  .colab-df-quickchart-complete:disabled,\n",
              "  .colab-df-quickchart-complete:disabled:hover {\n",
              "    background-color: var(--disabled-bg-color);\n",
              "    fill: var(--disabled-fill-color);\n",
              "    box-shadow: none;\n",
              "  }\n",
              "\n",
              "  .colab-df-spinner {\n",
              "    border: 2px solid var(--fill-color);\n",
              "    border-color: transparent;\n",
              "    border-bottom-color: var(--fill-color);\n",
              "    animation:\n",
              "      spin 1s steps(1) infinite;\n",
              "  }\n",
              "\n",
              "  @keyframes spin {\n",
              "    0% {\n",
              "      border-color: transparent;\n",
              "      border-bottom-color: var(--fill-color);\n",
              "      border-left-color: var(--fill-color);\n",
              "    }\n",
              "    20% {\n",
              "      border-color: transparent;\n",
              "      border-left-color: var(--fill-color);\n",
              "      border-top-color: var(--fill-color);\n",
              "    }\n",
              "    30% {\n",
              "      border-color: transparent;\n",
              "      border-left-color: var(--fill-color);\n",
              "      border-top-color: var(--fill-color);\n",
              "      border-right-color: var(--fill-color);\n",
              "    }\n",
              "    40% {\n",
              "      border-color: transparent;\n",
              "      border-right-color: var(--fill-color);\n",
              "      border-top-color: var(--fill-color);\n",
              "    }\n",
              "    60% {\n",
              "      border-color: transparent;\n",
              "      border-right-color: var(--fill-color);\n",
              "    }\n",
              "    80% {\n",
              "      border-color: transparent;\n",
              "      border-right-color: var(--fill-color);\n",
              "      border-bottom-color: var(--fill-color);\n",
              "    }\n",
              "    90% {\n",
              "      border-color: transparent;\n",
              "      border-bottom-color: var(--fill-color);\n",
              "    }\n",
              "  }\n",
              "</style>\n",
              "\n",
              "      <script>\n",
              "        async function quickchart(key) {\n",
              "          const quickchartButtonEl =\n",
              "            document.querySelector('#' + key + ' button');\n",
              "          quickchartButtonEl.disabled = true;  // To prevent multiple clicks.\n",
              "          quickchartButtonEl.classList.add('colab-df-spinner');\n",
              "          try {\n",
              "            const charts = await google.colab.kernel.invokeFunction(\n",
              "                'suggestCharts', [key], {});\n",
              "          } catch (error) {\n",
              "            console.error('Error during call to suggestCharts:', error);\n",
              "          }\n",
              "          quickchartButtonEl.classList.remove('colab-df-spinner');\n",
              "          quickchartButtonEl.classList.add('colab-df-quickchart-complete');\n",
              "        }\n",
              "        (() => {\n",
              "          let quickchartButtonEl =\n",
              "            document.querySelector('#df-67f037fa-2e54-42ff-8417-d6adb4f4d251 button');\n",
              "          quickchartButtonEl.style.display =\n",
              "            google.colab.kernel.accessAllowed ? 'block' : 'none';\n",
              "        })();\n",
              "      </script>\n",
              "    </div>\n",
              "    </div>\n",
              "  </div>\n"
            ],
            "application/vnd.google.colaboratory.intrinsic+json": {
              "type": "dataframe",
              "variable_name": "df",
              "summary": "{\n  \"name\": \"df\",\n  \"rows\": 30,\n  \"fields\": [\n    {\n      \"column\": \"title\",\n      \"properties\": {\n        \"dtype\": \"string\",\n        \"num_unique_values\": 30,\n        \"samples\": [\n          \"Science Applications International (NYSE:SAIC) Shares Gap Down on Disappointing Earnings\",\n          \"Repeat: Rocket Doctor, a Treatment.com AI company, Joins Larta Institute\\u2019s 2025 Heal.LA Accelerator Cohort to Expand Access to Virtual Care\",\n          \"Interview: Manish Jethwa, chief technology officer, Ordnance Survey\"\n        ],\n        \"semantic_type\": \"\",\n        \"description\": \"\"\n      }\n    },\n    {\n      \"column\": \"description\",\n      \"properties\": {\n        \"dtype\": \"string\",\n        \"num_unique_values\": 29,\n        \"samples\": [\n          \"The Trump administration is rapidly reshaping the global digital order.\",\n          \"With dozens of new studios and rapidly evolving tech, generative AI video is more embedded in Hollywood movies and TV than we may realize.\",\n          \"The recognition underscores Joveo\\u2019s leadership in revolutionizing recruitment marketing and talent acquisition through AI.......\"\n        ],\n        \"semantic_type\": \"\",\n        \"description\": \"\"\n      }\n    },\n    {\n      \"column\": \"content\",\n      \"properties\": {\n        \"dtype\": \"string\",\n        \"num_unique_values\": 29,\n        \"samples\": [\n          \"The global digital order is being rapidly reshaped under U.S. President Donald Trump. What had previously been an uneasy but functioning framework of cooperation, built on multilateral tech diplomacy\\u2026 [+19228 chars]\",\n          \"One recent evening on the Eastside of Los Angeles, a couple hundred people gathered in a cavernous old soundstage to celebrate the arrival of a new AI studio one of the nearly 100 now operating in Ho\\u2026 [+28078 chars]\",\n          \"MENLO PARK, Calif., June 04, 2025 (GLOBE NEWSWIRE) -- Joveo\\r\\n, the global leader in AI-led, high-performance recruitment marketing, has been named one of the\\u00a0Top 25 AI Companies of 2025 by The Softwa\\u2026 [+3488 chars]\"\n        ],\n        \"semantic_type\": \"\",\n        \"description\": \"\"\n      }\n    },\n    {\n      \"column\": \"url\",\n      \"properties\": {\n        \"dtype\": \"string\",\n        \"num_unique_values\": 30,\n        \"samples\": [\n          \"https://www.etfdailynews.com/2025/06/04/science-applications-international-nysesaic-shares-gap-down-on-disappointing-earnings/\",\n          \"https://www.globenewswire.com/news-release/2025/06/04/3093502/0/en/Repeat-Rocket-Doctor-a-Treatment-com-AI-company-Joins-Larta-Institute-s-2025-Heal-LA-Accelerator-Cohort-to-Expand-Access-to-Virtual-Care.html\",\n          \"https://www.computerweekly.com/news/366624713/Interview-Manish-Jethwa-chief-technology-officer-Ordnance-Survey\"\n        ],\n        \"semantic_type\": \"\",\n        \"description\": \"\"\n      }\n    },\n    {\n      \"column\": \"publishedAt\",\n      \"properties\": {\n        \"dtype\": \"object\",\n        \"num_unique_values\": 26,\n        \"samples\": [\n          \"2025-06-04T13:35:00Z\",\n          \"2025-06-04T10:00:00Z\",\n          \"2025-06-04T22:05:00Z\"\n        ],\n        \"semantic_type\": \"\",\n        \"description\": \"\"\n      }\n    },\n    {\n      \"column\": \"source\",\n      \"properties\": {\n        \"dtype\": \"string\",\n        \"num_unique_values\": 18,\n        \"samples\": [\n          \"Wng.org\",\n          \"GlobeNewswire\",\n          \"Forbes\"\n        ],\n        \"semantic_type\": \"\",\n        \"description\": \"\"\n      }\n    }\n  ]\n}"
            }
          },
          "metadata": {},
          "execution_count": 4
        }
      ]
    },
    {
      "cell_type": "code",
      "source": [
        "# As NewsAPI on free account allows to load only very cutted content, let's load content by url using newspaper3k package\n",
        "\n",
        "def get_full_article_text(url):\n",
        "  try:\n",
        "    article = Article(url)\n",
        "    article.download()\n",
        "    article.parse()\n",
        "    return article.text\n",
        "  except Exception as e:\n",
        "    print(f\"Error parsing {url}: {e}\")\n",
        "    return None\n",
        "\n",
        "df['text'] = df['url'].apply(get_full_article_text)\n",
        "\n",
        "# Let's filter from the results rows with articles forbidden to parse\n",
        "df = df[df.text.notnull()].reset_index(drop=True)"
      ],
      "metadata": {
        "colab": {
          "base_uri": "https://localhost:8080/"
        },
        "id": "-pn5_rYUdfmo",
        "outputId": "35dc00c0-2102-40c6-97dd-40041412be35"
      },
      "execution_count": 5,
      "outputs": [
        {
          "output_type": "stream",
          "name": "stdout",
          "text": [
            "Error parsing https://siliconangle.com/2025/06/04/snowflake-orchestrates-ai-strategy-cortex-unstructured-data-solutions-agents/: Article `download()` failed with 403 Client Error: Forbidden for url: https://siliconangle.com/2025/06/04/snowflake-orchestrates-ai-strategy-cortex-unstructured-data-solutions-agents/ on URL https://siliconangle.com/2025/06/04/snowflake-orchestrates-ai-strategy-cortex-unstructured-data-solutions-agents/\n",
            "Error parsing https://www.forbes.com/sites/juliadhar/2025/06/04/ai-talent-meet-the-guardians-of-the-ai-algorithms/: Article `download()` failed with 403 Client Error: Max restarts limit reached for url: https://www.forbes.com/sites/juliadhar/2025/06/04/ai-talent-meet-the-guardians-of-the-ai-algorithms/ on URL https://www.forbes.com/sites/juliadhar/2025/06/04/ai-talent-meet-the-guardians-of-the-ai-algorithms/\n",
            "Error parsing https://www.forbes.com/councils/forbestechcouncil/2025/06/04/if-ai-gave-you-all-the-answers-how-would-you-change-the-world/: Article `download()` failed with 403 Client Error: Max restarts limit reached for url: https://www.forbes.com/councils/forbestechcouncil/2025/06/04/if-ai-gave-you-all-the-answers-how-would-you-change-the-world/ on URL https://www.forbes.com/councils/forbestechcouncil/2025/06/04/if-ai-gave-you-all-the-answers-how-would-you-change-the-world/\n",
            "Error parsing https://www.forbes.com/sites/bernardmarr/2025/06/04/new-study-reveals-true-ai-capabilities-and-job-replacement-risk/: Article `download()` failed with 403 Client Error: Max restarts limit reached for url: https://www.forbes.com/sites/bernardmarr/2025/06/04/new-study-reveals-true-ai-capabilities-and-job-replacement-risk/ on URL https://www.forbes.com/sites/bernardmarr/2025/06/04/new-study-reveals-true-ai-capabilities-and-job-replacement-risk/\n"
          ]
        }
      ]
    },
    {
      "cell_type": "markdown",
      "source": [
        "# Summarization:"
      ],
      "metadata": {
        "id": "s7Dcz0PP3Fhw"
      }
    },
    {
      "cell_type": "code",
      "source": [
        "# Load model:\n",
        "summarizer_model_path = \"./bart-lora-tuned\"\n",
        "summarizer = AutoModelForSeq2SeqLM.from_pretrained(summarizer_model_path)\n",
        "tokenizer = BartTokenizer.from_pretrained(summarizer_model_path)\n",
        "\n",
        "def summarize(text, max_input_length=1024, max_output_length=128):\n",
        "  inputs = tokenizer(text, return_tensors=\"pt\", max_length=max_input_length, truncation=True)\n",
        "  input_ids = inputs[\"input_ids\"]\n",
        "  attention_mask = inputs[\"attention_mask\"]\n",
        "\n",
        "  summary_ids = summarizer.generate(input_ids=input_ids, attention_mask=attention_mask, max_length=max_output_length)\n",
        "  return tokenizer.decode(summary_ids[0], skip_special_tokens=True)"
      ],
      "metadata": {
        "colab": {
          "base_uri": "https://localhost:8080/"
        },
        "id": "DKb1QvIJoDS7",
        "outputId": "3a75081d-c7e0-40c0-e15c-aa05608301af"
      },
      "execution_count": 6,
      "outputs": [
        {
          "output_type": "stream",
          "name": "stderr",
          "text": [
            "/usr/local/lib/python3.11/dist-packages/huggingface_hub/utils/_auth.py:94: UserWarning: \n",
            "The secret `HF_TOKEN` does not exist in your Colab secrets.\n",
            "To authenticate with the Hugging Face Hub, create a token in your settings tab (https://huggingface.co/settings/tokens), set it as secret in your Google Colab and restart your session.\n",
            "You will be able to reuse this secret in all of your notebooks.\n",
            "Please note that authentication is recommended but still optional to access public models or datasets.\n",
            "  warnings.warn(\n"
          ]
        }
      ]
    },
    {
      "cell_type": "markdown",
      "source": [
        "# Translation from English to Ukrainian:"
      ],
      "metadata": {
        "id": "ABNIdGFu3IoP"
      }
    },
    {
      "cell_type": "code",
      "source": [
        "translator_model_path = \"Helsinki-NLP/opus-mt-en-uk\"\n",
        "translator = AutoModelForSeq2SeqLM.from_pretrained(translator_model_path)\n",
        "translator_tokenizer = AutoTokenizer.from_pretrained(translator_model_path)\n",
        "\n",
        "def translate_to_ua(text):\n",
        "  sentences = sent_tokenize(text)\n",
        "  translated_sentences = []\n",
        "\n",
        "  for sent in sentences:\n",
        "    tokens = translator_tokenizer(sent, return_tensors=\"pt\", truncation=True, max_length=1025)\n",
        "    output = translator.generate(**tokens, max_length=1025)\n",
        "    translated_sentences.append(translator_tokenizer.decode(output[0], skip_special_tokens=True))\n",
        "\n",
        "  return \" \".join(translated_sentences)"
      ],
      "metadata": {
        "id": "MTFxJPXKwoDA"
      },
      "execution_count": 7,
      "outputs": []
    },
    {
      "cell_type": "markdown",
      "source": [
        "# Generate output:"
      ],
      "metadata": {
        "id": "aYdNjU1_5mKn"
      }
    },
    {
      "cell_type": "code",
      "source": [
        "results = []\n",
        "for i in range(len(df)):\n",
        "  results.extend([{\n",
        "    'summary': translate_to_ua(summarize(df['text'][i])),\n",
        "    'source': df['source'][i],\n",
        "    'url': df['url'][i]\n",
        "  }])\n",
        "\n",
        "with open(\"summary.json\", \"w\", encoding=\"utf-8\") as f:\n",
        "  json.dump(results, f, ensure_ascii=False, indent=4)"
      ],
      "metadata": {
        "id": "nK5HaaI37E4j"
      },
      "execution_count": 8,
      "outputs": []
    },
    {
      "cell_type": "code",
      "source": [
        "def backup_colab_content_to_drive(folder_name='Colab Notebooks'):\n",
        "  import shutil\n",
        "  import os\n",
        "\n",
        "  src = '/content'\n",
        "  dest = f'/content/drive/MyDrive/{folder_name}'\n",
        "  os.makedirs(dest, exist_ok=True)\n",
        "\n",
        "  for item in os.listdir(src):\n",
        "    if item == 'drive':\n",
        "      continue\n",
        "    s = os.path.join(src, item)\n",
        "    d = os.path.join(dest, item)\n",
        "    if os.path.isdir(s):\n",
        "      shutil.copytree(s, d)\n",
        "    else:\n",
        "      shutil.copy2(s, d)\n",
        "\n",
        "  print(f'📁 Backup complete. Files saved to: {dest}')\n",
        "\n",
        "backup_colab_content_to_drive('robot_dreams/backup/results')"
      ],
      "metadata": {
        "colab": {
          "base_uri": "https://localhost:8080/"
        },
        "id": "ITTnM86E9DKi",
        "outputId": "aefe0d98-13d0-4a05-d32d-51639fd12498"
      },
      "execution_count": 9,
      "outputs": [
        {
          "output_type": "stream",
          "name": "stdout",
          "text": [
            "📁 Backup complete. Files saved to: /content/drive/MyDrive/robot_dreams/backup/results\n"
          ]
        }
      ]
    }
  ]
}